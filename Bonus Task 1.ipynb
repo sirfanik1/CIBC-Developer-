{
 "cells": [
  {
   "cell_type": "code",
   "execution_count": 1,
   "metadata": {},
   "outputs": [
    {
     "name": "stdout",
     "output_type": "stream",
     "text": [
      "projects: abcdef\n",
      "dependencies: (a,d),(f,b),(b,d),(f,a),(d,c)\n"
     ]
    },
    {
     "ename": "ValueError",
     "evalue": "not enough values to unpack (expected 2, got 1)",
     "output_type": "error",
     "traceback": [
      "\u001b[0;31m---------------------------------------------------------------------------\u001b[0m",
      "\u001b[0;31mValueError\u001b[0m                                Traceback (most recent call last)",
      "\u001b[0;32m<ipython-input-1-44eaa40b26b2>\u001b[0m in \u001b[0;36m<module>\u001b[0;34m()\u001b[0m\n\u001b[1;32m     47\u001b[0m     \u001b[0mprojects\u001b[0m \u001b[0;34m=\u001b[0m \u001b[0minput\u001b[0m\u001b[0;34m(\u001b[0m\u001b[0;34m\"projects: \"\u001b[0m\u001b[0;34m)\u001b[0m\u001b[0;34m.\u001b[0m\u001b[0msplit\u001b[0m\u001b[0;34m(\u001b[0m\u001b[0;34m)\u001b[0m\u001b[0;34m\u001b[0m\u001b[0m\n\u001b[1;32m     48\u001b[0m     \u001b[0mdependencies\u001b[0m \u001b[0;34m=\u001b[0m \u001b[0mlist\u001b[0m\u001b[0;34m(\u001b[0m\u001b[0mmap\u001b[0m\u001b[0;34m(\u001b[0m\u001b[0;32mlambda\u001b[0m \u001b[0mx\u001b[0m\u001b[0;34m:\u001b[0m \u001b[0mtuple\u001b[0m\u001b[0;34m(\u001b[0m\u001b[0mx\u001b[0m\u001b[0;34m.\u001b[0m\u001b[0msplit\u001b[0m\u001b[0;34m(\u001b[0m\u001b[0;34m\", \"\u001b[0m\u001b[0;34m)\u001b[0m\u001b[0;34m)\u001b[0m\u001b[0;34m,\u001b[0m \u001b[0minput\u001b[0m\u001b[0;34m(\u001b[0m\u001b[0;34m\"dependencies: \"\u001b[0m\u001b[0;34m)\u001b[0m\u001b[0;34m[\u001b[0m\u001b[0;36m1\u001b[0m\u001b[0;34m:\u001b[0m\u001b[0;34m-\u001b[0m\u001b[0;36m1\u001b[0m\u001b[0;34m]\u001b[0m\u001b[0;34m.\u001b[0m\u001b[0msplit\u001b[0m\u001b[0;34m(\u001b[0m\u001b[0;34m\"), (\"\u001b[0m\u001b[0;34m)\u001b[0m\u001b[0;34m)\u001b[0m\u001b[0;34m)\u001b[0m\u001b[0;34m\u001b[0m\u001b[0m\n\u001b[0;32m---> 49\u001b[0;31m     \u001b[0mgraph\u001b[0m \u001b[0;34m=\u001b[0m \u001b[0mGraph\u001b[0m\u001b[0;34m(\u001b[0m\u001b[0mprojects\u001b[0m\u001b[0;34m,\u001b[0m \u001b[0mdependencies\u001b[0m\u001b[0;34m)\u001b[0m\u001b[0;34m\u001b[0m\u001b[0m\n\u001b[0m\u001b[1;32m     50\u001b[0m     \u001b[0mresolved\u001b[0m \u001b[0;34m=\u001b[0m \u001b[0mgraph\u001b[0m\u001b[0;34m.\u001b[0m\u001b[0mtoposort\u001b[0m\u001b[0;34m(\u001b[0m\u001b[0;34m)\u001b[0m\u001b[0;34m\u001b[0m\u001b[0m\n\u001b[1;32m     51\u001b[0m     \u001b[0mprint\u001b[0m\u001b[0;34m(\u001b[0m\u001b[0mresolved\u001b[0m\u001b[0;34m)\u001b[0m\u001b[0;34m\u001b[0m\u001b[0m\n",
      "\u001b[0;32m<ipython-input-1-44eaa40b26b2>\u001b[0m in \u001b[0;36m__init__\u001b[0;34m(self, vertices, edges)\u001b[0m\n\u001b[1;32m      7\u001b[0m \u001b[0;34m\u001b[0m\u001b[0m\n\u001b[1;32m      8\u001b[0m         \u001b[0;31m# fill incoming and outcoming vertex for each edge\u001b[0m\u001b[0;34m\u001b[0m\u001b[0;34m\u001b[0m\u001b[0m\n\u001b[0;32m----> 9\u001b[0;31m         \u001b[0;32mfor\u001b[0m \u001b[0;34m(\u001b[0m\u001b[0mvertex_out\u001b[0m\u001b[0;34m,\u001b[0m \u001b[0mvertex_in\u001b[0m\u001b[0;34m)\u001b[0m \u001b[0;32min\u001b[0m \u001b[0medges\u001b[0m\u001b[0;34m:\u001b[0m\u001b[0;34m\u001b[0m\u001b[0m\n\u001b[0m\u001b[1;32m     10\u001b[0m             \u001b[0mself\u001b[0m\u001b[0;34m.\u001b[0m\u001b[0mincoming\u001b[0m\u001b[0;34m[\u001b[0m\u001b[0mvertex_in\u001b[0m\u001b[0;34m]\u001b[0m\u001b[0;34m.\u001b[0m\u001b[0madd\u001b[0m\u001b[0;34m(\u001b[0m\u001b[0mvertex_out\u001b[0m\u001b[0;34m)\u001b[0m\u001b[0;34m\u001b[0m\u001b[0m\n\u001b[1;32m     11\u001b[0m             \u001b[0mself\u001b[0m\u001b[0;34m.\u001b[0m\u001b[0moutcoming\u001b[0m\u001b[0;34m[\u001b[0m\u001b[0mvertex_out\u001b[0m\u001b[0;34m]\u001b[0m\u001b[0;34m.\u001b[0m\u001b[0madd\u001b[0m\u001b[0;34m(\u001b[0m\u001b[0mvertex_in\u001b[0m\u001b[0;34m)\u001b[0m\u001b[0;34m\u001b[0m\u001b[0m\n",
      "\u001b[0;31mValueError\u001b[0m: not enough values to unpack (expected 2, got 1)"
     ]
    }
   ],
   "source": [
    "class Graph():\n",
    "    def __init__(self, vertices, edges):\n",
    "        self.vertices = set(vertices)\n",
    "        # initialize a set of incoming and outcoming vertices for each vertex\n",
    "        self.incoming = {vertex: set() for vertex in self.vertices}\n",
    "        self.outcoming = {vertex: set() for vertex in self.vertices}\n",
    "        \n",
    "        # fill incoming and outcoming vertex for each edge\n",
    "        for (vertex_out, vertex_in) in edges:\n",
    "            self.incoming[vertex_in].add(vertex_out)\n",
    "            self.outcoming[vertex_out].add(vertex_in)\n",
    "        \n",
    "    def toposort(self):\n",
    "        sorted_vertices = []\n",
    "        # start vertices is the vertices with no edges incoming (no dependencies)\n",
    "        start_vertices = set(vertex for vertex in self.incoming if len(self.incoming[vertex]) == 0)\n",
    "        # while there is still vertices with no dependencies or satistied (resolved)\n",
    "        while len(start_vertices) > 0:\n",
    "            # extract vertex with resolved dependencies\n",
    "            vertex = start_vertices.pop()\n",
    "            sorted_vertices.append(vertex)\n",
    "            # resolve dependency on current vertex, i.e. remove all dep. edges from this vertex to any other\n",
    "            for vertex_in in list(self.outcoming[vertex]):\n",
    "                self.incoming[vertex_in].remove(vertex)\n",
    "                self.outcoming[vertex].remove(vertex_in)\n",
    "                # if there is no incoming edges for that vertex, add it to set of start vertices\n",
    "                if len(self.incoming[vertex_in]) == 0:\n",
    "                    start_vertices.add(vertex_in)\n",
    "        # if there is still edges in a graph, then we have a cycle, cant resolve\n",
    "        # otherwise return sorted vertices\n",
    "        if any(len(edges) > 0 for edges in self.outcoming.values()):\n",
    "            return \"error\"\n",
    "        else:\n",
    "            return sorted_vertices\n",
    "\n",
    "#projects = [c for c in 'abcdf']\n",
    "#dependencies = [('a', 'd'), ('f', 'b'), ('b', 'd'), ('f', 'a'), ('d', 'c')]\n",
    "\n",
    "\"\"\"\n",
    "a b c d e f\n",
    "(a, d), (f, b), (b, d), (f, a), (d, c)\n",
    "\n",
    "\"\"\"\n",
    "\n",
    "if __name__ == \"__main__\":\n",
    "    ### read projects and depentencies\n",
    "    projects = input(\"projects: \").split()\n",
    "    dependencies = list(map(lambda x: tuple(x.split(\", \")), input(\"dependencies: \")[1:-1].split(\"), (\")))\n",
    "    graph = Graph(projects, dependencies)\n",
    "    resolved = graph.toposort()\n",
    "    print(resolved)"
   ]
  },
  {
   "cell_type": "code",
   "execution_count": null,
   "metadata": {
    "collapsed": true
   },
   "outputs": [],
   "source": []
  }
 ],
 "metadata": {
  "kernelspec": {
   "display_name": "Python 3",
   "language": "python",
   "name": "python3"
  },
  "language_info": {
   "codemirror_mode": {
    "name": "ipython",
    "version": 3
   },
   "file_extension": ".py",
   "mimetype": "text/x-python",
   "name": "python",
   "nbconvert_exporter": "python",
   "pygments_lexer": "ipython3",
   "version": "3.6.1"
  }
 },
 "nbformat": 4,
 "nbformat_minor": 2
}
