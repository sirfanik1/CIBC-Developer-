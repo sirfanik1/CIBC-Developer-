{
 "cells": [
  {
   "cell_type": "code",
   "execution_count": 1,
   "metadata": {
    "collapsed": true
   },
   "outputs": [],
   "source": [
    "import pytest\n",
    "import numpy as np\n",
    "import scipy as sp\n",
    "\n",
    "\n",
    "from scipy.misc import imread, imshow\n",
    "from scipy.ndimage import affine_transform\n",
    "\n",
    "from matplotlib import pyplot as plt\n",
    "\n",
    "%matplotlib inline"
   ]
  },
  {
   "cell_type": "code",
   "execution_count": 2,
   "metadata": {},
   "outputs": [
    {
     "name": "stdout",
     "output_type": "stream",
     "text": [
      "['f', 'e', 'a', 'b', 'd', 'c']\n"
     ]
    }
   ],
   "source": [
    "class Graph():\n",
    "    def __init__(self, vertices, edges):\n",
    "        self.vertices = set(vertices)\n",
    "        # initialize a set of incoming and outcoming vertices for each vertex\n",
    "        self.incoming = {vertex: set() for vertex in self.vertices}\n",
    "        self.outcoming = {vertex: set() for vertex in self.vertices}\n",
    "        \n",
    "        # fill incoming and outcoming vertex for each edge\n",
    "        for (vertex_out, vertex_in) in edges:\n",
    "            self.incoming[vertex_in].add(vertex_out)\n",
    "            self.outcoming[vertex_out].add(vertex_in)\n",
    "        \n",
    "    def toposort(self):\n",
    "        sorted_vertices = []\n",
    "        # start vertices is the vertices with no edges incoming (no dependencies)\n",
    "        start_vertices = set(vertex for vertex in self.incoming if len(self.incoming[vertex]) == 0)\n",
    "        # while there is still vertices with no dependencies or satistied (resolved)\n",
    "        while len(start_vertices) > 0:\n",
    "            # extract vertex with resolved dependencies\n",
    "            vertex = start_vertices.pop()\n",
    "            sorted_vertices.append(vertex)\n",
    "            # resolve dependency on current vertex, i.e. remove all dep. edges from this vertex to any other\n",
    "            for vertex_in in list(self.outcoming[vertex]):\n",
    "                self.incoming[vertex_in].remove(vertex)\n",
    "                self.outcoming[vertex].remove(vertex_in)\n",
    "                # if there is no incoming edges for that vertex, add it to set of start vertices\n",
    "                if len(self.incoming[vertex_in]) == 0:\n",
    "                    start_vertices.add(vertex_in)\n",
    "        # if there is still edges in a graph, then we have a cycle, cant resolve\n",
    "        # otherwise return sorted vertices\n",
    "        if any(len(edges) > 0 for edges in self.outcoming.values()):\n",
    "            return \"error\"\n",
    "        else:\n",
    "            return sorted_vertices\n",
    "\n",
    "# put your dependencies here if you want\n",
    "# here is how you can type input from keyboard\n",
    "\n",
    "#projects = input().split()\n",
    "#dependencies = list(map(lambda x: tuple(x.split(\", \")), input()[1:-1].split(\"), (\")))\n",
    "\n",
    "projects = [c for c in 'abcdef']\n",
    "dependencies = [('a', 'd'), ('f', 'b'), ('b', 'd'), ('f', 'a'), ('d', 'c')]\n",
    "\n",
    "graph = Graph(projects, dependencies)\n",
    "resolved = graph.toposort()\n",
    "print(resolved)"
   ]
  },
  {
   "cell_type": "code",
   "execution_count": null,
   "metadata": {
    "collapsed": true
   },
   "outputs": [],
   "source": []
  }
 ],
 "metadata": {
  "kernelspec": {
   "display_name": "Python 3",
   "language": "python",
   "name": "python3"
  },
  "language_info": {
   "codemirror_mode": {
    "name": "ipython",
    "version": 3
   },
   "file_extension": ".py",
   "mimetype": "text/x-python",
   "name": "python",
   "nbconvert_exporter": "python",
   "pygments_lexer": "ipython3",
   "version": "3.6.1"
  }
 },
 "nbformat": 4,
 "nbformat_minor": 2
}
